{
 "cells": [
  {
   "cell_type": "code",
   "execution_count": 5,
   "id": "1fb7fd1a",
   "metadata": {},
   "outputs": [
    {
     "name": "stderr",
     "output_type": "stream",
     "text": [
      "Setting `pad_token_id` to `eos_token_id`:50256 for open-end generation.\n"
     ]
    }
   ],
   "source": [
    "from transformers import pipeline\n",
    "gen = pipeline('text-generation', model ='EleutherAI/gpt-neo-2.7B')\n",
    "#gen = pipeline('text-generation', model ='EleutherAI/gpt-neo-1.3B')\n",
    "#gen = pipeline('text-generation', model ='EleutherAI/gpt-neo-125M')\n",
    "context = \"Bilateral meeting with the Permanent Representative of the Netherlands to the United Nations.\"\n",
    "output = gen(context, max_length=50, do_sample=True, temperature=0.9)\n",
    "with open('dl.txt', 'w') as f:\n",
    "       f.write(str(output))"
   ]
  },
  {
   "cell_type": "code",
   "execution_count": null,
   "id": "d06fa7a9",
   "metadata": {},
   "outputs": [],
   "source": []
  }
 ],
 "metadata": {
  "kernelspec": {
   "display_name": "Python 3 (ipykernel)",
   "language": "python",
   "name": "python3"
  },
  "language_info": {
   "codemirror_mode": {
    "name": "ipython",
    "version": 3
   },
   "file_extension": ".py",
   "mimetype": "text/x-python",
   "name": "python",
   "nbconvert_exporter": "python",
   "pygments_lexer": "ipython3",
   "version": "3.10.7"
  }
 },
 "nbformat": 4,
 "nbformat_minor": 5
}
